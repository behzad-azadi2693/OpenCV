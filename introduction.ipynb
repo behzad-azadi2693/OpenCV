{
 "cells": [
  {
   "cell_type": "code",
   "execution_count": 1,
   "metadata": {},
   "outputs": [
    {
     "name": "stdout",
     "output_type": "stream",
     "text": [
      "3.10.13 (main, Sep 11 2023, 13:21:10) [GCC 11.2.0]\n"
     ]
    }
   ],
   "source": [
    "import sys\n",
    "\n",
    "print(sys.version)"
   ]
  },
  {
   "cell_type": "code",
   "execution_count": 2,
   "metadata": {},
   "outputs": [],
   "source": [
    "import cv2"
   ]
  },
  {
   "cell_type": "code",
   "execution_count": 3,
   "metadata": {},
   "outputs": [
    {
     "data": {
      "text/plain": [
       "'4.9.0'"
      ]
     },
     "execution_count": 3,
     "metadata": {},
     "output_type": "execute_result"
    }
   ],
   "source": [
    "cv2.__version__"
   ]
  },
  {
   "cell_type": "code",
   "execution_count": 4,
   "metadata": {},
   "outputs": [
    {
     "data": {
      "text/plain": [
       "['ANN_MLP',\n",
       " 'ANN_MLP_ANNEAL',\n",
       " 'ANN_MLP_BACKPROP',\n",
       " 'ANN_MLP_GAUSSIAN',\n",
       " 'ANN_MLP_IDENTITY',\n",
       " 'ANN_MLP_LEAKYRELU',\n",
       " 'ANN_MLP_NO_INPUT_SCALE',\n",
       " 'ANN_MLP_NO_OUTPUT_SCALE',\n",
       " 'ANN_MLP_RELU',\n",
       " 'ANN_MLP_RPROP',\n",
       " 'ANN_MLP_SIGMOID_SYM',\n",
       " 'ANN_MLP_UPDATE_WEIGHTS',\n",
       " 'ANN_MLP_create',\n",
       " 'ANN_MLP_load',\n",
       " 'BOOST_DISCRETE',\n",
       " 'BOOST_GENTLE',\n",
       " 'BOOST_LOGIT',\n",
       " 'BOOST_REAL',\n",
       " 'Boost',\n",
       " 'Boost_DISCRETE',\n",
       " 'Boost_GENTLE',\n",
       " 'Boost_LOGIT',\n",
       " 'Boost_REAL',\n",
       " 'Boost_create',\n",
       " 'Boost_load',\n",
       " 'COL_SAMPLE',\n",
       " 'DTREES_PREDICT_AUTO',\n",
       " 'DTREES_PREDICT_MASK',\n",
       " 'DTREES_PREDICT_MAX_VOTE',\n",
       " 'DTREES_PREDICT_SUM',\n",
       " 'DTrees',\n",
       " 'DTrees_PREDICT_AUTO',\n",
       " 'DTrees_PREDICT_MASK',\n",
       " 'DTrees_PREDICT_MAX_VOTE',\n",
       " 'DTrees_PREDICT_SUM',\n",
       " 'DTrees_create',\n",
       " 'DTrees_load',\n",
       " 'EM',\n",
       " 'EM_COV_MAT_DEFAULT',\n",
       " 'EM_COV_MAT_DIAGONAL',\n",
       " 'EM_COV_MAT_GENERIC',\n",
       " 'EM_COV_MAT_SPHERICAL',\n",
       " 'EM_DEFAULT_MAX_ITERS',\n",
       " 'EM_DEFAULT_NCLUSTERS',\n",
       " 'EM_START_AUTO_STEP',\n",
       " 'EM_START_E_STEP',\n",
       " 'EM_START_M_STEP',\n",
       " 'EM_create',\n",
       " 'EM_load',\n",
       " 'KNEAREST_BRUTE_FORCE',\n",
       " 'KNEAREST_KDTREE',\n",
       " 'KNearest',\n",
       " 'KNearest_BRUTE_FORCE',\n",
       " 'KNearest_KDTREE',\n",
       " 'KNearest_create',\n",
       " 'KNearest_load',\n",
       " 'LOGISTIC_REGRESSION_BATCH',\n",
       " 'LOGISTIC_REGRESSION_MINI_BATCH',\n",
       " 'LOGISTIC_REGRESSION_REG_DISABLE',\n",
       " 'LOGISTIC_REGRESSION_REG_L1',\n",
       " 'LOGISTIC_REGRESSION_REG_L2',\n",
       " 'LogisticRegression',\n",
       " 'LogisticRegression_BATCH',\n",
       " 'LogisticRegression_MINI_BATCH',\n",
       " 'LogisticRegression_REG_DISABLE',\n",
       " 'LogisticRegression_REG_L1',\n",
       " 'LogisticRegression_REG_L2',\n",
       " 'LogisticRegression_create',\n",
       " 'LogisticRegression_load',\n",
       " 'NormalBayesClassifier',\n",
       " 'NormalBayesClassifier_create',\n",
       " 'NormalBayesClassifier_load',\n",
       " 'ParamGrid',\n",
       " 'ParamGrid_create',\n",
       " 'ROW_SAMPLE',\n",
       " 'RTrees',\n",
       " 'RTrees_create',\n",
       " 'RTrees_load',\n",
       " 'STAT_MODEL_COMPRESSED_INPUT',\n",
       " 'STAT_MODEL_PREPROCESSED_INPUT',\n",
       " 'STAT_MODEL_RAW_OUTPUT',\n",
       " 'STAT_MODEL_UPDATE_MODEL',\n",
       " 'SVM',\n",
       " 'SVMSGD',\n",
       " 'SVMSGD_ASGD',\n",
       " 'SVMSGD_HARD_MARGIN',\n",
       " 'SVMSGD_SGD',\n",
       " 'SVMSGD_SOFT_MARGIN',\n",
       " 'SVMSGD_create',\n",
       " 'SVMSGD_load',\n",
       " 'SVM_C',\n",
       " 'SVM_CHI2',\n",
       " 'SVM_COEF',\n",
       " 'SVM_CUSTOM',\n",
       " 'SVM_C_SVC',\n",
       " 'SVM_DEGREE',\n",
       " 'SVM_EPS_SVR',\n",
       " 'SVM_GAMMA',\n",
       " 'SVM_INTER',\n",
       " 'SVM_LINEAR',\n",
       " 'SVM_NU',\n",
       " 'SVM_NU_SVC',\n",
       " 'SVM_NU_SVR',\n",
       " 'SVM_ONE_CLASS',\n",
       " 'SVM_P',\n",
       " 'SVM_POLY',\n",
       " 'SVM_RBF',\n",
       " 'SVM_SIGMOID',\n",
       " 'SVM_create',\n",
       " 'SVM_getDefaultGridPtr',\n",
       " 'SVM_load',\n",
       " 'StatModel',\n",
       " 'StatModel_COMPRESSED_INPUT',\n",
       " 'StatModel_PREPROCESSED_INPUT',\n",
       " 'StatModel_RAW_OUTPUT',\n",
       " 'StatModel_UPDATE_MODEL',\n",
       " 'TEST_ERROR',\n",
       " 'TRAIN_ERROR',\n",
       " 'TrainData',\n",
       " 'TrainData_create',\n",
       " 'TrainData_getSubMatrix',\n",
       " 'TrainData_getSubVector',\n",
       " 'VAR_CATEGORICAL',\n",
       " 'VAR_NUMERICAL',\n",
       " 'VAR_ORDERED',\n",
       " '__doc__',\n",
       " '__file__',\n",
       " '__loader__',\n",
       " '__name__',\n",
       " '__package__',\n",
       " '__path__',\n",
       " '__spec__',\n",
       " '_native']"
      ]
     },
     "execution_count": 4,
     "metadata": {},
     "output_type": "execute_result"
    }
   ],
   "source": [
    "dir(cv2.ml)"
   ]
  },
  {
   "cell_type": "code",
   "execution_count": 5,
   "metadata": {},
   "outputs": [
    {
     "data": {
      "text/plain": [
       "'1.23.5'"
      ]
     },
     "execution_count": 5,
     "metadata": {},
     "output_type": "execute_result"
    }
   ],
   "source": [
    "import numpy as np\n",
    "\n",
    "np.__version__"
   ]
  },
  {
   "cell_type": "code",
   "execution_count": 6,
   "metadata": {},
   "outputs": [
    {
     "data": {
      "text/plain": [
       "[False]"
      ]
     },
     "execution_count": 6,
     "metadata": {},
     "output_type": "execute_result"
    }
   ],
   "source": [
    "[str(_) in range(0, 10, 2)]\n",
    "\n"
   ]
  },
  {
   "cell_type": "code",
   "execution_count": 7,
   "metadata": {},
   "outputs": [],
   "source": [
    "x = np.zeros((2,3))"
   ]
  },
  {
   "cell_type": "code",
   "execution_count": 8,
   "metadata": {},
   "outputs": [
    {
     "name": "stderr",
     "output_type": "stream",
     "text": [
      "/home/azadi/miniconda3/envs/ML/lib/python3.10/site-packages/sklearn/datasets/_openml.py:1002: FutureWarning: The default value of `parser` will change from `'liac-arff'` to `'auto'` in 1.4. You can set `parser='auto'` to silence this warning. Therefore, an `ImportError` will be raised from 1.4 if the dataset is dense and pandas is not installed. Note that the pandas parser may return different data types. See the Notes Section in fetch_openml's API doc for details.\n",
      "  warn(\n"
     ]
    }
   ],
   "source": [
    "from sklearn import datasets\n",
    "\n",
    "iris = datasets.fetch_openml('iris', version=1)"
   ]
  },
  {
   "cell_type": "code",
   "execution_count": 9,
   "metadata": {},
   "outputs": [
    {
     "data": {
      "text/plain": [
       "array(['Iris-setosa', 'Iris-versicolor', 'Iris-virginica'], dtype=object)"
      ]
     },
     "execution_count": 9,
     "metadata": {},
     "output_type": "execute_result"
    }
   ],
   "source": [
    "id = iris.data\n",
    "it = iris.target\n",
    "np.unique(it)"
   ]
  },
  {
   "cell_type": "code",
   "execution_count": 10,
   "metadata": {},
   "outputs": [],
   "source": [
    "x=np.linspace(0, 10 ,100)"
   ]
  },
  {
   "cell_type": "code",
   "execution_count": 11,
   "metadata": {},
   "outputs": [],
   "source": [
    "\n",
    "import matplotlib.pylab as plt"
   ]
  },
  {
   "cell_type": "code",
   "execution_count": 12,
   "metadata": {},
   "outputs": [
    {
     "data": {
      "text/plain": [
       "[<matplotlib.lines.Line2D at 0x7f1c542770a0>]"
      ]
     },
     "execution_count": 12,
     "metadata": {},
     "output_type": "execute_result"
    },
    {
     "data": {
      "image/png": "[encoded data removed]",
      "text/plain": [
       "<Figure size 640x480 with 1 Axes>"
      ]
     },
     "metadata": {},
     "output_type": "display_data"
    }
   ],
   "source": [
    "%matplotlib inline\n",
    "plt.plot(x , np.sin(x))"
   ]
  },
  {
   "cell_type": "code",
   "execution_count": 13,
   "metadata": {},
   "outputs": [
    {
     "data": {
      "text/plain": [
       "(1797, 64)"
      ]
     },
     "execution_count": 13,
     "metadata": {},
     "output_type": "execute_result"
    }
   ],
   "source": [
    "dg = datasets.load_digits()\n",
    "\n",
    "dg.data.shape"
   ]
  },
  {
   "cell_type": "code",
   "execution_count": 14,
   "metadata": {},
   "outputs": [
    {
     "data": {
      "text/plain": [
       "(1797, 8, 8)"
      ]
     },
     "execution_count": 14,
     "metadata": {},
     "output_type": "execute_result"
    }
   ],
   "source": [
    "dg.images.shape"
   ]
  },
  {
   "cell_type": "code",
   "execution_count": 15,
   "metadata": {},
   "outputs": [
    {
     "data": {
      "text/plain": [
       "array([[ 0.,  0.,  5., 13.,  9.,  1.,  0.,  0.],\n",
       "       [ 0.,  0., 13., 15., 10., 15.,  5.,  0.],\n",
       "       [ 0.,  3., 15.,  2.,  0., 11.,  8.,  0.],\n",
       "       [ 0.,  4., 12.,  0.,  0.,  8.,  8.,  0.],\n",
       "       [ 0.,  5.,  8.,  0.,  0.,  9.,  8.,  0.],\n",
       "       [ 0.,  4., 11.,  0.,  1., 12.,  7.,  0.],\n",
       "       [ 0.,  2., 14.,  5., 10., 12.,  0.,  0.],\n",
       "       [ 0.,  0.,  6., 13., 10.,  0.,  0.,  0.]])"
      ]
     },
     "execution_count": 15,
     "metadata": {},
     "output_type": "execute_result"
    }
   ],
   "source": [
    "dg.images[0, : , :]"
   ]
  },
  {
   "cell_type": "code",
   "execution_count": 16,
   "metadata": {},
   "outputs": [
    {
     "data": {
      "text/plain": [
       "(8, 8)"
      ]
     },
     "execution_count": 16,
     "metadata": {},
     "output_type": "execute_result"
    }
   ],
   "source": [
    "dg.images[0, : , :].shape"
   ]
  },
  {
   "cell_type": "code",
   "execution_count": 17,
   "metadata": {},
   "outputs": [
    {
     "data": {
      "image/png": "[encoded data removed]",
      "text/plain": [
       "<Figure size 640x480 with 1 Axes>"
      ]
     },
     "metadata": {},
     "output_type": "display_data"
    }
   ],
   "source": [
    "plt.imshow(dg.images[0, : , :], cmap='gray')\n",
    "plt.savefig('7.png')"
   ]
  },
  {
   "cell_type": "code",
   "execution_count": 18,
   "metadata": {},
   "outputs": [
    {
     "data": {
      "image/png": "[encoded data removed]",
      "text/plain": [
       "<Figure size 1400x400 with 10 Axes>"
      ]
     },
     "metadata": {},
     "output_type": "display_data"
    }
   ],
   "source": [
    "plt.figure(figsize=(14, 4))\n",
    "for i in range(10):\n",
    "    plt.subplot(1, 10, i+1)\n",
    "    plt.imshow(dg.images[i, :,:])"
   ]
  },
  {
   "cell_type": "code",
   "execution_count": 28,
   "metadata": {},
   "outputs": [],
   "source": [
    "np.random.seed(42)\n",
    "y_pred = np.random.randint(0,2, size=5)"
   ]
  },
  {
   "cell_type": "code",
   "execution_count": 29,
   "metadata": {},
   "outputs": [],
   "source": [
    "y_true = np.ones(5, dtype=np.int32)"
   ]
  },
  {
   "cell_type": "code",
   "execution_count": 31,
   "metadata": {},
   "outputs": [
    {
     "data": {
      "text/plain": [
       "0.2"
      ]
     },
     "execution_count": 31,
     "metadata": {},
     "output_type": "execute_result"
    }
   ],
   "source": [
    "test_size = len(y_true)\n",
    "predict = np.sum(y_true == y_pred)\n",
    "predict / test_size\n"
   ]
  },
  {
   "cell_type": "code",
   "execution_count": 32,
   "metadata": {},
   "outputs": [
    {
     "data": {
      "text/plain": [
       "0.2"
      ]
     },
     "execution_count": 32,
     "metadata": {},
     "output_type": "execute_result"
    }
   ],
   "source": [
    "from sklearn import metrics\n",
    "\n",
    "metrics.accuracy_score(y_true, y_pred)"
   ]
  },
  {
   "cell_type": "code",
   "execution_count": 36,
   "metadata": {},
   "outputs": [
    {
     "data": {
      "text/plain": [
       "array([ 0.        ,  0.1010101 ,  0.2020202 ,  0.3030303 ,  0.4040404 ,\n",
       "        0.50505051,  0.60606061,  0.70707071,  0.80808081,  0.90909091,\n",
       "        1.01010101,  1.11111111,  1.21212121,  1.31313131,  1.41414141,\n",
       "        1.51515152,  1.61616162,  1.71717172,  1.81818182,  1.91919192,\n",
       "        2.02020202,  2.12121212,  2.22222222,  2.32323232,  2.42424242,\n",
       "        2.52525253,  2.62626263,  2.72727273,  2.82828283,  2.92929293,\n",
       "        3.03030303,  3.13131313,  3.23232323,  3.33333333,  3.43434343,\n",
       "        3.53535354,  3.63636364,  3.73737374,  3.83838384,  3.93939394,\n",
       "        4.04040404,  4.14141414,  4.24242424,  4.34343434,  4.44444444,\n",
       "        4.54545455,  4.64646465,  4.74747475,  4.84848485,  4.94949495,\n",
       "        5.05050505,  5.15151515,  5.25252525,  5.35353535,  5.45454545,\n",
       "        5.55555556,  5.65656566,  5.75757576,  5.85858586,  5.95959596,\n",
       "        6.06060606,  6.16161616,  6.26262626,  6.36363636,  6.46464646,\n",
       "        6.56565657,  6.66666667,  6.76767677,  6.86868687,  6.96969697,\n",
       "        7.07070707,  7.17171717,  7.27272727,  7.37373737,  7.47474747,\n",
       "        7.57575758,  7.67676768,  7.77777778,  7.87878788,  7.97979798,\n",
       "        8.08080808,  8.18181818,  8.28282828,  8.38383838,  8.48484848,\n",
       "        8.58585859,  8.68686869,  8.78787879,  8.88888889,  8.98989899,\n",
       "        9.09090909,  9.19191919,  9.29292929,  9.39393939,  9.49494949,\n",
       "        9.5959596 ,  9.6969697 ,  9.7979798 ,  9.8989899 , 10.        ])"
      ]
     },
     "execution_count": 36,
     "metadata": {},
     "output_type": "execute_result"
    }
   ],
   "source": [
    "x = np.linspace(0,10,100)\n",
    "x"
   ]
  },
  {
   "cell_type": "code",
   "execution_count": 46,
   "metadata": {},
   "outputs": [
    {
     "data": {
      "text/plain": [
       "array([ 0.43092911,  0.57508663,  0.6965801 , -0.14571504,  0.63017217,\n",
       "        0.52976741,  0.77546559,  1.11826146,  0.91099257,  1.12590934,\n",
       "        1.21375427,  1.23467296,  0.8624542 ,  0.68956404,  0.88440629,\n",
       "        1.39034914,  0.64557599,  1.00263241,  0.70278402,  1.02122707,\n",
       "        1.26384397,  1.23266709,  0.53190525,  1.13771994,  0.74927899,\n",
       "        0.42827083,  0.70100324,  0.38423448,  0.18619661,  0.41579291,\n",
       "       -0.14021581, -0.15946813, -0.1561543 , -0.43688579, -0.38338497,\n",
       "       -0.31219117, -0.23385625, -0.29396058, -0.31896979, -0.47161084,\n",
       "       -0.60154808, -1.10386805, -0.99136136, -0.95498996, -1.3814258 ,\n",
       "       -0.95772865, -1.06149195, -0.69727531, -0.51285257, -0.91601679,\n",
       "       -1.12069487, -1.36172273, -0.43299528, -0.38229491, -0.98402259,\n",
       "       -0.46969039, -1.01097543, -0.83552494, -0.69514672, -0.52347772,\n",
       "        0.2750854 ,  0.07565514, -0.13635576,  0.31746501,  0.59572127,\n",
       "        0.73743223, -0.06798487,  0.36028021,  0.15937354,  0.46950301,\n",
       "        0.3782867 ,  0.92299521,  0.72404296,  0.61627685,  0.69488635,\n",
       "        0.82188981,  0.74428852,  0.95033874,  0.53200829,  0.77185907,\n",
       "        0.88559171,  1.04952306,  0.68040359,  0.4960646 ,  0.38371688,\n",
       "        1.18445324,  0.58938156,  0.67586804,  0.92978223,  0.00404906,\n",
       "        0.70436219,  0.28234795, -0.20369875, -0.0579112 ,  0.20748832,\n",
       "       -0.18997675,  0.21644292, -0.48785976, -0.20705919, -0.65103166])"
      ]
     },
     "execution_count": 46,
     "metadata": {},
     "output_type": "execute_result"
    }
   ],
   "source": [
    "y_true = np.sin(x) + np.random.rand(x.size) - 0.5\n",
    "y_true"
   ]
  },
  {
   "cell_type": "code",
   "execution_count": 47,
   "metadata": {},
   "outputs": [
    {
     "data": {
      "text/plain": [
       "array([ 0.        ,  0.10083842,  0.20064886,  0.2984138 ,  0.39313661,\n",
       "        0.48385164,  0.56963411,  0.64960951,  0.72296256,  0.78894546,\n",
       "        0.84688556,  0.8961922 ,  0.93636273,  0.96698762,  0.98775469,\n",
       "        0.99845223,  0.99897117,  0.98930624,  0.96955595,  0.93992165,\n",
       "        0.90070545,  0.85230712,  0.79522006,  0.73002623,  0.65739025,\n",
       "        0.57805259,  0.49282204,  0.40256749,  0.30820902,  0.21070855,\n",
       "        0.11106004,  0.01027934, -0.09060615, -0.19056796, -0.28858706,\n",
       "       -0.38366419, -0.47483011, -0.56115544, -0.64176014, -0.7158225 ,\n",
       "       -0.7825875 , -0.84137452, -0.89158426, -0.93270486, -0.96431712,\n",
       "       -0.98609877, -0.99782778, -0.99938456, -0.99075324, -0.97202182,\n",
       "       -0.94338126, -0.90512352, -0.85763861, -0.80141062, -0.73701276,\n",
       "       -0.66510151, -0.58640998, -0.50174037, -0.41195583, -0.31797166,\n",
       "       -0.22074597, -0.12126992, -0.0205576 ,  0.0803643 ,  0.18046693,\n",
       "        0.27872982,  0.37415123,  0.46575841,  0.55261747,  0.63384295,\n",
       "        0.7086068 ,  0.77614685,  0.83577457,  0.8868821 ,  0.92894843,\n",
       "        0.96154471,  0.98433866,  0.99709789,  0.99969234,  0.99209556,\n",
       "        0.97438499,  0.94674118,  0.90944594,  0.86287948,  0.8075165 ,\n",
       "        0.74392141,  0.6727425 ,  0.59470541,  0.51060568,  0.42130064,\n",
       "        0.32770071,  0.23076008,  0.13146699,  0.03083368, -0.07011396,\n",
       "       -0.17034683, -0.26884313, -0.36459873, -0.45663749, -0.54402111])"
      ]
     },
     "execution_count": 47,
     "metadata": {},
     "output_type": "execute_result"
    }
   ],
   "source": [
    "y_pred = np.sin(x)\n",
    "y_pred"
   ]
  },
  {
   "cell_type": "code",
   "execution_count": 50,
   "metadata": {},
   "outputs": [
    {
     "data": {
      "text/plain": [
       "[<matplotlib.lines.Line2D at 0x7f1c536e56c0>]"
      ]
     },
     "execution_count": 50,
     "metadata": {},
     "output_type": "execute_result"
    },
    {
     "data": {
      "image/png": "[encoded data removed]",
      "text/plain": [
       "<Figure size 640x480 with 1 Axes>"
      ]
     },
     "metadata": {},
     "output_type": "display_data"
    }
   ],
   "source": [
    "import matplotlib.pyplot as plt\n",
    "plt.style.use('ggplot')\n",
    "plt.plot(x, y_pred)\n",
    "plt.plot(x, y_true, 'o')"
   ]
  },
  {
   "cell_type": "code",
   "execution_count": null,
   "metadata": {},
   "outputs": [],
   "source": []
  }
 ],
 "metadata": {
  "kernelspec": {
   "display_name": "OpenCV-ML",
   "language": "python",
   "name": "python3"
  },
  "language_info": {
   "codemirror_mode": {
    "name": "ipython",
    "version": 3
   },
   "file_extension": ".py",
   "mimetype": "text/x-python",
   "name": "python",
   "nbconvert_exporter": "python",
   "pygments_lexer": "ipython3",
   "version": "3.10.13"
  }
 },
 "nbformat": 4,
 "nbformat_minor": 2
}
